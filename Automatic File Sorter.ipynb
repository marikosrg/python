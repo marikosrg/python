{
 "cells": [
  {
   "cell_type": "code",
   "execution_count": 1,
   "id": "568f712a",
   "metadata": {},
   "outputs": [],
   "source": [
    "import os, shutil"
   ]
  },
  {
   "cell_type": "code",
   "execution_count": 10,
   "id": "bd8bf5da",
   "metadata": {},
   "outputs": [],
   "source": [
    "path = r\"C:/Users/marik/OneDrive/Documents/Python File Tutorial/\""
   ]
  },
  {
   "cell_type": "code",
   "execution_count": 13,
   "id": "53d18ed9",
   "metadata": {},
   "outputs": [],
   "source": [
    "file_name = os.listdir(path)"
   ]
  },
  {
   "cell_type": "code",
   "execution_count": 19,
   "id": "83b177b5",
   "metadata": {},
   "outputs": [],
   "source": [
    "folder_names = ['excel files', 'image files', 'text files']\n",
    "\n",
    "for loop in range(0,3):\n",
    "    if not os.path.exists(path + folder_names[loop]):\n",
    "        #print(path +folder_names[loop])\n",
    "        os.makedirs(path + folder_names[loop])\n",
    "        \n",
    "for file in file_name:\n",
    "    if \".xlsx\" in file and not os.path.exists(path + \"'excel files'\" + file):\n",
    "        shutil.move(path + file, path +\"excel files/\" + file)\n",
    "    elif \".jpg\" in file and not os.path.exists(path + \"'image files'\" + file):\n",
    "        shutil.move(path + file, path +\"image files/\" + file)\n",
    "    elif \".txt\" in file and not os.path.exists(path + \"'text files'\" + file):\n",
    "        shutil.move(path + file, path +\"text files/\" + file)"
   ]
  },
  {
   "cell_type": "code",
   "execution_count": 17,
   "id": "f9feae59",
   "metadata": {},
   "outputs": [],
   "source": []
  },
  {
   "cell_type": "code",
   "execution_count": null,
   "id": "ecab6e3e",
   "metadata": {},
   "outputs": [],
   "source": []
  }
 ],
 "metadata": {
  "kernelspec": {
   "display_name": "Python 3 (ipykernel)",
   "language": "python",
   "name": "python3"
  },
  "language_info": {
   "codemirror_mode": {
    "name": "ipython",
    "version": 3
   },
   "file_extension": ".py",
   "mimetype": "text/x-python",
   "name": "python",
   "nbconvert_exporter": "python",
   "pygments_lexer": "ipython3",
   "version": "3.10.9"
  }
 },
 "nbformat": 4,
 "nbformat_minor": 5
}
